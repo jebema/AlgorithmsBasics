{
 "cells": [
  {
   "cell_type": "markdown",
   "metadata": {},
   "source": [
    "# Heapsort\n",
    "\n",
    "Input: A sequence of n numbers $\\left \\langle a_{1},a_{2},...,a_{n} \\right \\rangle$ <br>\n",
    "Output: A permutation(reordering) $\\left \\langle a_{1}^{'},a_{2}^{'},...,a_{n}^{'} \\right \\rangle$ such that $ a_{1}^{'}\\leq a_{2}^{'}\\leq...\\leq a_{n}^{'}$ <br>\n",
    "- Introduction to Algorithms (3rd edition), Thomas Cormen et al. <br> <br> <br>\n",
    "\n",
    "Heapsort uses a data structure called \"heap\" that also makes an efficient priority queue.\n"
   ]
  },
  {
   "cell_type": "markdown",
   "metadata": {},
   "source": [
    "### Binary heap structure \n",
    "The heap data structure is an array object that we can view as a nearly complete binary tree, as shown in the next Figure. <br>\n",
    "\n",
    "The tree is completelly filled on all leves except possibly in the lowest, which is filled from the left up to a point. <br>\n",
    "\n",
    "An array $A$ that represents a heap is an object with two attributes: $A.length$ (number of elements) and $A.heap-size$, which represents how many elements in the heap are stored within $A$. <br>\n",
    "\n",
    "This mean, that althoug $ A[1,...,A.length]$ may contain numbers, only the elements in $ A[1,...,A.heap-size]$, where $0 \\leq A.heap-size \\leq A.length $ are valid elements of the heap.\n",
    "\n"
   ]
  },
  {
   "cell_type": "markdown",
   "metadata": {},
   "source": [
    "<img src=\"./Imagenes/Trees.png\">"
   ]
  },
  {
   "cell_type": "markdown",
   "metadata": {},
   "source": [
    "The root of the tree is $A[0]$, and given the index $i$ of a node, we can easily compute the indices of its parent, left child, and right child. <br>\n",
    "\n",
    "The next functions are useful in the heapsort algorithm: <br>\n",
    "\n",
    "parent($i$) <br>\n",
    "1  $  return \\;\\left \\lfloor (i-1)/2 \\right \\rfloor$\n",
    "\n",
    "left($i$) <br>\n",
    "1  $  return \\;  2i+1$\n",
    "\n",
    "rigth($i$) <br>\n",
    "1  $  return \\;   2i+2$"
   ]
  },
  {
   "cell_type": "markdown",
   "metadata": {},
   "source": [
    "<img src=\"./Imagenes/Tree-operations.png\">"
   ]
  },
  {
   "cell_type": "code",
   "execution_count": 8,
   "metadata": {
    "collapsed": true
   },
   "outputs": [],
   "source": [
    " #Returns the index from the parent element of i\n",
    "def parent(i):\n",
    "    return math.floor((i-1)/2)  #Beacuse index starts at 0, otherwise return math.floor((i)/2)\n",
    "    \n",
    " #Returns the index from the left element of i\n",
    "def left(i):\n",
    "    return 2*i+1 #Beacuse index starts at 0, otherwise return 2*i\n",
    "\n",
    " #Returns the index from the rigth element of i\n",
    "def right(i):\n",
    "    return 2*i+2  #Beacuse index starts at 0, otherwise return 2*i+1"
   ]
  },
  {
   "cell_type": "markdown",
   "metadata": {},
   "source": [
    "## Heap property\n",
    "There are two kinds of binary heaps: max-heaps and min-heaps. In both kinds, the values in the nodes satisfy a heap property, the specifics of which depend on the kind of heap. In a  **max-heap**, the **max-heap property** is that for every node i other than the root, <br>\n",
    "\n",
    "$A[Parent(i)] \\geq  A[i]$ <br>\n",
    "\n",
    "that is, the value of a node is at most the value of its parent. Thus, the largest element in a max-heap is stored at the rootm and the subtree rooted at a node containd values no larger than that contained at the ndoe itself. <br>\n",
    "\n",
    "A **min-heap** is organized in the opposite way; the **min-heap property** is that for every node i other than the root, <br>\n",
    "\n",
    "$A[Parent(i)] \\leq  A[i]$ <br>\n",
    "\n",
    "The smallest element in a min-heap is at the root.\n",
    "\n",
    "For the heapsort algorithm, we use max-heaps."
   ]
  },
  {
   "cell_type": "markdown",
   "metadata": {},
   "source": [
    "### Max-heapify\n",
    "The max-heapify algorithm is used to maintain the max-heap property. It runs in O(log n) time. <br>\n",
    "The algorithm inputs are an array $A$ and an index $i$ to the array. When it is called, MAX-HEAPIFY assumes that the binary trees rooted at LEFT($i$) and RIGHT($i$) are max-heaps, but that $A[i]$ might be smaller than its children, thus violating the max-heap property. MAX-HEAPIFY lets the value at $A[i]$ float down in the max-heap so that the subtree rooted at index i obeys the max-heap property."
   ]
  },
  {
   "cell_type": "code",
   "execution_count": 2,
   "metadata": {
    "collapsed": true
   },
   "outputs": [],
   "source": [
    "def maxHeapify(A,i,heapSize):\n",
    "    l = left(i)  #Gets the index from the left element of i\n",
    "    r = right(i)  #Gets the index from the right element of i\n",
    "    if l< heapSize and A[l] > A[i]:\n",
    "        largest = l\n",
    "    else:\n",
    "        largest = i\n",
    "    if r< heapSize and A[r] > A[largest]:\n",
    "        largest = r\n",
    "    if largest != i:\n",
    "        A[i], A[largest] = A[largest], A[i]\n",
    "        maxHeapify(A,largest,heapSize)"
   ]
  },
  {
   "cell_type": "markdown",
   "metadata": {},
   "source": [
    "<img src=\"./Imagenes/max-heapify.png\">"
   ]
  },
  {
   "cell_type": "markdown",
   "metadata": {},
   "source": [
    "## Building a heap\n",
    "We use the procedure MAX-HEAPIFY in a bottom-up manner to convert an array $A[1...n]$ where $A.length$, into a max-heap. <br>\n",
    "From the number of leaves section we see that the leaves are in the subarray <br>\n",
    "$A[\\left \\lfloor n/2 \\right \\rfloor..n]$  <br>\n",
    "\n",
    "This mean that in $A[\\left \\lfloor n/2 \\right \\rfloor..n]$ all are a 1-element heap to begin with. <br>.\n",
    "<br>\n",
    "The procedure BUILD-MAX-HEAP goes through the remaining nodes of the tree and runs MAX-HEAPIFY on each one.\n",
    "\n"
   ]
  },
  {
   "cell_type": "code",
   "execution_count": 3,
   "metadata": {
    "collapsed": true
   },
   "outputs": [],
   "source": [
    "def buildMaxHeap(A):\n",
    "    for i in range(math.floor(len(A)/2),0,-1):\n",
    "        maxHeapify(A,i, len(A))"
   ]
  },
  {
   "cell_type": "markdown",
   "metadata": {},
   "source": [
    "<img src=\"./Imagenes/build-max-heap.png\">"
   ]
  },
  {
   "cell_type": "code",
   "execution_count": 4,
   "metadata": {
    "collapsed": true
   },
   "outputs": [],
   "source": [
    "def heapsort(A):\n",
    "    buildMaxHeap(A)\n",
    "    heapSize = len(A)\n",
    "    for i in range(len(A)-1,0,-1):\n",
    "        A[0], A[i] = A[i], A[0]\n",
    "        heapSize = heapSize -1\n",
    "        maxHeapify(A,0, heapSize)"
   ]
  },
  {
   "cell_type": "code",
   "execution_count": 9,
   "metadata": {},
   "outputs": [
    {
     "name": "stdout",
     "output_type": "stream",
     "text": [
      "[1, 2, 3, 4, 7, 8, 9, 10, 14, 16]\n"
     ]
    }
   ],
   "source": [
    "import math\n",
    "A=[16,4,10,14,7,9,3,2,8,1]\n",
    "#maxHeapify(A,1)\n",
    "#buildMaxHeap(A)\n",
    "heapsort(A)\n",
    "print(A)"
   ]
  },
  {
   "cell_type": "markdown",
   "metadata": {},
   "source": [
    "### Otra opción "
   ]
  },
  {
   "cell_type": "code",
   "execution_count": 11,
   "metadata": {},
   "outputs": [
    {
     "name": "stdout",
     "output_type": "stream",
     "text": [
      "[16, 14, 10, 8, 7, 9, 3, 2, 4, 1]\n",
      "[1, 2, 3, 4, 7, 8, 9, 10, 14, 16]\n"
     ]
    }
   ],
   "source": [
    "# -*- coding: utf-8 -*-\n",
    "\"\"\"\n",
    "Created on Sun Nov 26 21:37:10 2017\n",
    "\n",
    "@author: Jessica\n",
    "\"\"\"\n",
    "import math\n",
    "class Heap:\n",
    "    def __init__(self):\n",
    "        self.arr=[]\n",
    "        self.Size=len(self.arr)\n",
    "\n",
    "    def maxHeapify(self,i):\n",
    "        l = self.left(i)  #Gets the index from the left element of i\n",
    "        r = self.right(i)  #Gets the index from the right element of i\n",
    "        if l< self.Size and self.arr[l] > self.arr[i]:\n",
    "            largest = l\n",
    "        else:\n",
    "            largest = i\n",
    "        if r< self.Size and self.arr[r] > self.arr[largest]:\n",
    "            largest = r\n",
    "        if largest != i:\n",
    "            self.arr[i], self.arr[largest] = self.arr[largest], self.arr[i]\n",
    "            self.maxHeapify(largest)\n",
    "        \n",
    "     #Returns the index from the parent element of i\n",
    "    def parent(self,i):\n",
    "        return math.floor((i-1)/2)  #Beacuse index starts at 0, otherwise return math.floor((i)/2)\n",
    "    \n",
    "     #Returns the index from the left element of i\n",
    "    def left(self, i):\n",
    "        return 2*i+1 #Beacuse index starts at 0, otherwise return 2*i\n",
    "    \n",
    "     #Returns the index from the rigth element of i\n",
    "    def right(self,i):\n",
    "        return 2*i+2  #Beacuse index starts at 0, otherwise return 2*i+1\n",
    "\n",
    "    def buildMaxHeap(self,array):\n",
    "        self.Size=len(array)\n",
    "        self.arr=array\n",
    "        for i in range(math.floor(self.Size),0,-1):\n",
    "            self.maxHeapify(i)\n",
    "\n",
    "def heapsort(heap):\n",
    "    while heap.Size >1:\n",
    "        heap.arr[0],heap.arr[heap.Size-1]=heap.arr[heap.Size-1],heap.arr[0]\n",
    "        heap.Size-=1\n",
    "        heap.maxHeapify(0)\n",
    "        \n",
    "\n",
    "A=[16,4,10,14,7,9,3,2,8,1]\n",
    "h = Heap();\n",
    "h.buildMaxHeap(A)\n",
    "print(A)\n",
    "heapsort(h)\n",
    "print(A)\n"
   ]
  },
  {
   "cell_type": "code",
   "execution_count": null,
   "metadata": {
    "collapsed": true
   },
   "outputs": [],
   "source": []
  }
 ],
 "metadata": {
  "kernelspec": {
   "display_name": "Python 3",
   "language": "python",
   "name": "python3"
  },
  "language_info": {
   "codemirror_mode": {
    "name": "ipython",
    "version": 3
   },
   "file_extension": ".py",
   "mimetype": "text/x-python",
   "name": "python",
   "nbconvert_exporter": "python",
   "pygments_lexer": "ipython3",
   "version": "3.6.3"
  }
 },
 "nbformat": 4,
 "nbformat_minor": 2
}
