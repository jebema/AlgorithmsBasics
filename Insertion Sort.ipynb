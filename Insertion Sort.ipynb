{
 "cells": [
  {
   "cell_type": "markdown",
   "metadata": {},
   "source": [
    "# Insertion sort"
   ]
  },
  {
   "cell_type": "markdown",
   "metadata": {},
   "source": [
    "Input: A sequence of n numbers $\\left \\langle a_{1},a_{2},...,a_{n} \\right \\rangle$ <br>\n",
    "Output: A permutation(reordering) $\\left \\langle a_{1}^{'},a_{2}^{'},...,a_{n}^{'} \\right \\rangle$ such that $ a_{1}^{'}\\leq a_{2}^{'}\\leq...\\leq a_{n}^{'}$ <br>\n",
    "- Introduction to Algorithms (3rd edition), Thomas Cormen et al."
   ]
  },
  {
   "cell_type": "code",
   "execution_count": 1,
   "metadata": {},
   "outputs": [
    {
     "name": "stdout",
     "output_type": "stream",
     "text": [
      "[0, 1, 1, 3, 5, 6, 7, 9, 12]\n"
     ]
    }
   ],
   "source": [
    "def insertion_sort(A):\n",
    "    for j in range(1, len(A), 1):\n",
    "        key = A[j]\n",
    "        #Insert A[j] into the sorted sequence A[0,...j-1]\n",
    "        i=j-1\n",
    "        while(i>=0 and A[i]>key):\n",
    "            A[i+1] = A[i]\n",
    "            i = i-1\n",
    "        A[i+1]=key\n",
    "    return A\n",
    "        \n",
    "res = insertion_sort([0,1,1,6,5,3,9,7,12])\n",
    "print(res)\n",
    " "
   ]
  },
  {
   "cell_type": "markdown",
   "metadata": {},
   "source": [
    "## Explanation\n",
    "We can use the metaphor of sorting cards. We are inserting a new card into an already sorted hand of cards. We are comparing this new card and change position with every already sorted card that is bigger than the new one.\n",
    "\n",
    "## Complexity\n",
    "The algorithm is $O(n^{2})$ worst case. This happen when elements are ordered in reverse. <br>\n",
    "The algorithm is $\\Omega (n)$ best case. This happen when all elements are already ordered.\n",
    "\n",
    "## Space\n",
    "The algorithm computes in place, thus is $O(1)$ for space"
   ]
  },
  {
   "cell_type": "code",
   "execution_count": 4,
   "metadata": {},
   "outputs": [
    {
     "name": "stdout",
     "output_type": "stream",
     "text": [
      "[12, 9, 7, 6, 5, 3, 1, 1, 0]\n"
     ]
    }
   ],
   "source": [
    "#Insertion sort to order in reverse: bigger to smaller\n",
    "def insertion_sort_reverse(A):\n",
    "    for j in range(1, len(A), 1):\n",
    "        key = A[j]\n",
    "        #Insert A[j] into the sorted sequence A[0,...j-1]\n",
    "        i=j-1\n",
    "        while(i>=0 and A[i]<key):  #Just change the > for <\n",
    "            A[i+1] = A[i]\n",
    "            i = i-1\n",
    "        A[i+1]=key\n",
    "    return A\n",
    "        \n",
    "res = insertion_sort_reverse([0,1,1,6,5,3,9,7,12])\n",
    "print(res)"
   ]
  },
  {
   "cell_type": "markdown",
   "metadata": {
    "collapsed": true
   },
   "source": [
    "<img src=\"./Imagenes/Insertion sort.png\">"
   ]
  },
  {
   "cell_type": "code",
   "execution_count": null,
   "metadata": {
    "collapsed": true
   },
   "outputs": [],
   "source": []
  }
 ],
 "metadata": {
  "kernelspec": {
   "display_name": "Python 3",
   "language": "python",
   "name": "python3"
  },
  "language_info": {
   "codemirror_mode": {
    "name": "ipython",
    "version": 3
   },
   "file_extension": ".py",
   "mimetype": "text/x-python",
   "name": "python",
   "nbconvert_exporter": "python",
   "pygments_lexer": "ipython3",
   "version": "3.6.3"
  }
 },
 "nbformat": 4,
 "nbformat_minor": 2
}
