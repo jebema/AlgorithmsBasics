{
 "cells": [
  {
   "cell_type": "markdown",
   "metadata": {},
   "source": [
    "# Merge sort"
   ]
  },
  {
   "cell_type": "markdown",
   "metadata": {},
   "source": [
    "Input: A sequence of n numbers $\\left \\langle a_{1},a_{2},...,a_{n} \\right \\rangle$ <br>\n",
    "Output: A permutation(reordering) $\\left \\langle a_{1}^{'},a_{2}^{'},...,a_{n}^{'} \\right \\rangle$ such that $ a_{1}^{'}\\leq a_{2}^{'}\\leq...\\leq a_{n}^{'}$ <br>\n",
    "- Introduction to Algorithms (3rd edition), Thomas Cormen et al. <br> <br> <br>\n",
    "### Divide and conquer paradigm <br>\n",
    "Divide: the $n$-element sequence to be sorted into two subsequences of $n/2$ elementes each <br>\n",
    "Conquer: Sort the two subsequences recursevely using merge_sort<br>\n",
    "Combine: Merge the two sorted subsequences to produce the sorted answer. <br><br><br>\n",
    "\n"
   ]
  },
  {
   "cell_type": "markdown",
   "metadata": {},
   "source": [
    "The procedure merge_sort(A,p,r) sorts the elements in the subarray $A[p..r]$. If $p>r$, the subarray has at most one element and is therefore already sorted.  <br>\n",
    "Otherwise, the divide step simply computed an index that partitions $A[p..r]$ into two subarrays: <br>\n",
    "$A[p..q]$ containind $\\left \\lfloor  (n/2)\\right \\rfloor$ elements and A[q+1..r] containing the $\\left \\lceil  (n/2)\\right \\rceil$ elements."
   ]
  },
  {
   "cell_type": "code",
   "execution_count": 8,
   "metadata": {
    "collapsed": true
   },
   "outputs": [],
   "source": [
    "# -*- coding: utf-8 -*-\n",
    "\"\"\"\n",
    "Created on Wed Nov  8 09:43:05 2017\n",
    "Implementation of Cormen merge sort with modifications to start in index 0\n",
    "@author: Jessica Beltrán-Márquez, jessicabeltran.net\n",
    "\"\"\"\n",
    "import math\n",
    "      #This function keeps dividing the array in two until having single elements which are already sorted\n",
    "def merge_sort(A,p,r): #The p and r are index that can be anywhere from A list. This values will be changing depending in the divisions\n",
    "    if p<r:\n",
    "        q= math.floor((p+r)/2)    #Divides the array in two parts\n",
    "        merge_sort(A,p,q)        # Calls recursevely merge_sort to again divide the left array in two\n",
    "        merge_sort(A,q+1,r)     # Calls recursevely merge_sort to again divide the rigth array in two\n",
    "        merge(A,p,q,r)          #Calls the function merge that will take two sorted list and merge them in one single sorted list"
   ]
  },
  {
   "cell_type": "markdown",
   "metadata": {},
   "source": [
    "The following code combines two sequences already sorted. It uses a sentinel to avoid to check if a pile (subsequence) is empty."
   ]
  },
  {
   "cell_type": "code",
   "execution_count": 9,
   "metadata": {
    "collapsed": true
   },
   "outputs": [],
   "source": [
    "def merge(A,p,q,r):\n",
    "    n1 = q-p+1    #Gets the size from the left array\n",
    "    n2 = r-q      #Gets the size from the right array\n",
    "    sentinel = 9999999   #A very high value as a sentinel so no element be higher than this which will be at the end of the array\n",
    "    L = [None] * (n1+1)   #Creates an array of size n1+1 to give room to the sentinel at the last element\n",
    "    R = [None] * (n2+1)   #Creates an array of size n2+1 to give room to the sentinel at the last element\n",
    "    for i in range(0, n1, 1):   #Copy the values from A that go to the left array\n",
    "        L[i] = A[p+i]\n",
    "    for j in range(0,n2,1):  #Copy the values from A that go to the rigth array\n",
    "        R[j] = A[q+j+1]\n",
    "    L[n1] = sentinel         #place the sentines\n",
    "    R[n2] = sentinel\n",
    "    i=0    #index to iterate in the left and right array\n",
    "    j=0\n",
    "    for k in range(p,r+1,1):    #to traverse between the beginning and end of the segmented array A\n",
    "        if L[i] <= R[j]:        #If the smallest element is in array L\n",
    "            A[k] = L[i]         #Change the k element in the array A with the element from L\n",
    "            i = i+1             # Increment in one the traverse in the left array\n",
    "        else:\n",
    "            A[k] = R[j]          #If the smallest element is in array R change the k element in the array A with the element from L\n",
    "            j = j+1# Increment in one the traverse in the rigth array"
   ]
  },
  {
   "cell_type": "code",
   "execution_count": 10,
   "metadata": {},
   "outputs": [
    {
     "name": "stdout",
     "output_type": "stream",
     "text": [
      "[1, 2, 2, 3, 4, 5, 6, 7, 9]\n"
     ]
    }
   ],
   "source": [
    "A = [5,2,4,9,7,1,3,2,6]\n",
    "n = len(A)\n",
    "merge_sort(A,0,n-1)   #n-1 because it starts in index = 0\n",
    "print(A)\n",
    " "
   ]
  },
  {
   "cell_type": "markdown",
   "metadata": {},
   "source": [
    "Time complexity: $\\Theta(n log n))$ <br>\n",
    "Space complexity: merge  $O(n))$ , stack $O(log n))$, Total $O(n))$"
   ]
  },
  {
   "cell_type": "markdown",
   "metadata": {},
   "source": [
    "More resources:\n",
    "https://www.youtube.com/watch?v=sfmaf4QpVTw"
   ]
  },
  {
   "cell_type": "markdown",
   "metadata": {
    "collapsed": true
   },
   "source": [
    "<img src=\"./Imagenes/mergesort-2.png\">"
   ]
  },
  {
   "cell_type": "code",
   "execution_count": null,
   "metadata": {
    "collapsed": true
   },
   "outputs": [],
   "source": []
  }
 ],
 "metadata": {
  "kernelspec": {
   "display_name": "Python 3",
   "language": "python",
   "name": "python3"
  },
  "language_info": {
   "codemirror_mode": {
    "name": "ipython",
    "version": 3
   },
   "file_extension": ".py",
   "mimetype": "text/x-python",
   "name": "python",
   "nbconvert_exporter": "python",
   "pygments_lexer": "ipython3",
   "version": "3.6.3"
  }
 },
 "nbformat": 4,
 "nbformat_minor": 2
}
