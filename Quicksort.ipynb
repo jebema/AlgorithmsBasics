{
 "cells": [
  {
   "cell_type": "markdown",
   "metadata": {},
   "source": [
    "## Quicksort"
   ]
  },
  {
   "cell_type": "markdown",
   "metadata": {},
   "source": [
    "Input: A sequence of n numbers $\\left \\langle a_{1},a_{2},...,a_{n} \\right \\rangle$ <br>\n",
    "Output: A permutation(reordering) $\\left \\langle a_{1}^{'},a_{2}^{'},...,a_{n}^{'} \\right \\rangle$ such that $ a_{1}^{'}\\leq a_{2}^{'}\\leq...\\leq a_{n}^{'}$ <br>\n",
    "- Introduction to Algorithms (3rd edition), Thomas Cormen et al. <br> <br> <br>"
   ]
  },
  {
   "cell_type": "markdown",
   "metadata": {},
   "source": [
    "The sort of the array goes in time. The algorithm first partition the input array $A[p..r]$ into two (possible empty) subarrays. <br>\n",
    "$A[p..q-1]$ and $A[q+1..r]$.\n",
    "<br>\n",
    "such that each element of $A[p..q-1]$ es less or equivalent to $A[q]$, which is, in turn,  less than each element of $A[q+1..r]$. <br>\n",
    "The partition part computes the index q as part of its procedure. In the quicksort, the two subarrays $A[p..q-1]$ and $A[q+1..r]$ are sorted by recursive calls."
   ]
  },
  {
   "cell_type": "code",
   "execution_count": 1,
   "metadata": {},
   "outputs": [
    {
     "name": "stdout",
     "output_type": "stream",
     "text": [
      "[1, 2, 3, 4, 5, 6, 7, 8]\n"
     ]
    }
   ],
   "source": [
    "# -*- coding: utf-8 -*-\n",
    "\"\"\"\n",
    "Created on Thu Nov 23 11:22:37 2017\n",
    "Implementation of Cormen quick sort starting from index 0\n",
    "@author: Jessica Beltrán-Márquez, jessicabeltran.net\n",
    "\"\"\"\n",
    "\n",
    "def quicksort(A,p,r):\n",
    "    if p<r:\n",
    "        q = partition(A,p,r)  #Calls partition function with the whole array, it returns an index saying from where \n",
    "        #to the left are the elements smaller than the last element [r] and from where to the rigest the bigger ones\n",
    "        # q represents the new position from the last element that had position [r]\n",
    "        quicksort(A,p,q-1) #A recurrent call to wuicksort with smaller segments, the ones from the left from q (p..q) are smaller than q, \n",
    "        quicksort(A,q+1,r) #A recurrent call to wuicksort with smaller segments, the ones from the right from q (q+1..r) are bigger than q, \n",
    "        \n",
    "def partition(A,p,r): \n",
    "    x = A[r] # Sets x with the information from the last element [r]\n",
    "    i = p-1 # An index that stars before de beggining of the segments\n",
    "    for j in range(p,r,1):  #Traverse from 1 to one before the last element [r]\n",
    "        if A[j]<=x:  #If the element j has a less value than x,\n",
    "            i = i+1 #Then we increment the index i\n",
    "            A[i], A[j] = A[j], A[i] #And exchange the values from i and j index. This way, the elements being in the left\n",
    "            #From the start to i are all smaller than the element x in [r]. And all the elements in the right from j are bigger than x\n",
    "    A[i+1], A[r] = A[r], A[i+1] #Finally, exchange the element x to be just in the middle from its smaller and bigger values,\n",
    "    return i+1 #This function return the index where x is set in order to keep with the quicksort.\n",
    "\n",
    "#A = [5,2,4,9,7,1,3,2,6]\n",
    "A = [2,8,7,1,3,5,6,4]\n",
    "\n",
    "n = len(A)\n",
    "quicksort(A,0,n-1)   #n-1 because it starts in index = 0\n",
    "print(A)\n",
    "            "
   ]
  },
  {
   "cell_type": "markdown",
   "metadata": {},
   "source": [
    "More resources:\n",
    "    https://www.youtube.com/watch?v=3DV8GO9g7B4"
   ]
  },
  {
   "cell_type": "markdown",
   "metadata": {
    "collapsed": true
   },
   "source": [
    "The average expected running time is :  $\\Theta(n log n))$ that can be obtained with the master theorem.\n",
    "<br>\n",
    "The worst running time is $\\Theta(n^2))$ happens when the array is already sorted. To avoid this, there is random sampling version leading to an average running time."
   ]
  },
  {
   "cell_type": "markdown",
   "metadata": {
    "collapsed": true
   },
   "source": [
    "<img src=\"./Imagenes/quicksort.png\">"
   ]
  },
  {
   "cell_type": "code",
   "execution_count": null,
   "metadata": {
    "collapsed": true
   },
   "outputs": [],
   "source": []
  }
 ],
 "metadata": {
  "kernelspec": {
   "display_name": "Python 3",
   "language": "python",
   "name": "python3"
  },
  "language_info": {
   "codemirror_mode": {
    "name": "ipython",
    "version": 3
   },
   "file_extension": ".py",
   "mimetype": "text/x-python",
   "name": "python",
   "nbconvert_exporter": "python",
   "pygments_lexer": "ipython3",
   "version": "3.6.3"
  }
 },
 "nbformat": 4,
 "nbformat_minor": 2
}
